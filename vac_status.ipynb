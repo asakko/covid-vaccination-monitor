{
 "cells": [
  {
   "cell_type": "code",
   "execution_count": 1,
   "metadata": {},
   "outputs": [
    {
     "name": "stdout",
     "output_type": "stream",
     "text": [
      "Python implementation: CPython\n",
      "Python version       : 3.8.5\n",
      "IPython version      : 7.19.0\n",
      "\n",
      "sys     : 3.8.5 (default, Sep  4 2020, 07:30:14) \n",
      "[GCC 7.3.0]\n",
      "altair  : 4.1.0\n",
      "requests: 2.25.1\n",
      "pandas  : 1.1.5\n",
      "\n"
     ]
    }
   ],
   "source": [
    "import requests\n",
    "import altair as alt\n",
    "import pandas as pd\n",
    "import sys\n",
    "import warnings\n",
    "\n",
    "from collections import OrderedDict \n",
    "from datetime import datetime, timezone\n",
    "from io import StringIO\n",
    "\n",
    "%load_ext watermark\n",
    "%watermark -iv -v"
   ]
  },
  {
   "cell_type": "markdown",
   "metadata": {},
   "source": [
    "### Load latest data"
   ]
  },
  {
   "cell_type": "code",
   "execution_count": 2,
   "metadata": {},
   "outputs": [
    {
     "name": "stdout",
     "output_type": "stream",
     "text": [
      "Argentina,Austria,Bahrain,Bulgaria,Canada,Chile,China,Costa Rica,Croatia,Denmark,England,Estonia,France,Germany,Greece,Hungary,Iceland,Israel,Italy,Kuwait,Latvia,Lithuania,Luxembourg,Mexico,Northern Ireland,Oman,Poland,Portugal,Romania,Russia,Scotland,United Kingdom,United States,Wales,World\n"
     ]
    },
    {
     "data": {
      "text/html": [
       "<div>\n",
       "<style scoped>\n",
       "    .dataframe tbody tr th:only-of-type {\n",
       "        vertical-align: middle;\n",
       "    }\n",
       "\n",
       "    .dataframe tbody tr th {\n",
       "        vertical-align: top;\n",
       "    }\n",
       "\n",
       "    .dataframe thead th {\n",
       "        text-align: right;\n",
       "    }\n",
       "</style>\n",
       "<table border=\"1\" class=\"dataframe\">\n",
       "  <thead>\n",
       "    <tr style=\"text-align: right;\">\n",
       "      <th></th>\n",
       "      <th>location</th>\n",
       "      <th>date</th>\n",
       "      <th>total_vaccinations_per_hundred</th>\n",
       "    </tr>\n",
       "  </thead>\n",
       "  <tbody>\n",
       "    <tr>\n",
       "      <th>19</th>\n",
       "      <td>Canada</td>\n",
       "      <td>2020-12-21</td>\n",
       "      <td>0.06</td>\n",
       "    </tr>\n",
       "    <tr>\n",
       "      <th>95</th>\n",
       "      <td>United States</td>\n",
       "      <td>2020-12-23</td>\n",
       "      <td>0.30</td>\n",
       "    </tr>\n",
       "    <tr>\n",
       "      <th>71</th>\n",
       "      <td>Mexico</td>\n",
       "      <td>2020-12-27</td>\n",
       "      <td>0.01</td>\n",
       "    </tr>\n",
       "    <tr>\n",
       "      <th>4</th>\n",
       "      <td>Bahrain</td>\n",
       "      <td>2020-12-25</td>\n",
       "      <td>2.97</td>\n",
       "    </tr>\n",
       "    <tr>\n",
       "      <th>37</th>\n",
       "      <td>Denmark</td>\n",
       "      <td>2020-12-28</td>\n",
       "      <td>0.13</td>\n",
       "    </tr>\n",
       "  </tbody>\n",
       "</table>\n",
       "</div>"
      ],
      "text/plain": [
       "         location        date  total_vaccinations_per_hundred\n",
       "19         Canada  2020-12-21                            0.06\n",
       "95  United States  2020-12-23                            0.30\n",
       "71         Mexico  2020-12-27                            0.01\n",
       "4         Bahrain  2020-12-25                            2.97\n",
       "37        Denmark  2020-12-28                            0.13"
      ]
     },
     "metadata": {},
     "output_type": "display_data"
    }
   ],
   "source": [
    "try:\n",
    "    url = 'https://raw.githubusercontent.com/owid/covid-19-data/master/public/data/vaccinations/vaccinations.csv'\n",
    "    r = requests.get(url, allow_redirects=True)\n",
    "    df = pd.read_csv(StringIO(r.content.decode(\"utf-8\")))[['location', 'date', 'total_vaccinations_per_hundred']]\n",
    "    max_values = df.groupby('location').max('total_vaccinations_per_hundred').sort_values('total_vaccinations_per_hundred', ascending=False).reset_index(drop=False)\n",
    "    print(','.join(sorted(df.location.unique().tolist())))\n",
    "    display(df.sample(5))\n",
    "except:\n",
    "    warnings.warn('Cannot read vaccination data to pandas dataframe!')"
   ]
  },
  {
   "cell_type": "markdown",
   "metadata": {},
   "source": [
    "### Plot routine"
   ]
  },
  {
   "cell_type": "code",
   "execution_count": 3,
   "metadata": {},
   "outputs": [],
   "source": [
    "def plot_chart(df, cmap):\n",
    "    return alt.Chart(df[df.location.isin(cmap.keys())]).mark_line(point=True, strokeWidth=2).encode(\n",
    "        x       = alt.X('date:T', title='Date'),\n",
    "        y       = alt.Y('total_vaccinations_per_hundred:Q', title='Vaccinated [%]'),\n",
    "        color   = alt.Color('location:N', title='Country', scale=alt.Scale(\n",
    "                domain = list(cmap.keys()),\n",
    "                range  = list(cmap.values())\n",
    "        )),    tooltip = ['location', 'date:T', 'total_vaccinations_per_hundred']\n",
    "    ).configure_point(\n",
    "        size=50\n",
    "    ).properties(width=300*1.61, height=300, title=f'Vaccination status {datetime.now().astimezone(timezone.utc).strftime(\"%Y-%m-%d %H:%M\")} (UTC)')"
   ]
  },
  {
   "cell_type": "markdown",
   "metadata": {},
   "source": [
    "### Main countries"
   ]
  },
  {
   "cell_type": "code",
   "execution_count": 4,
   "metadata": {},
   "outputs": [],
   "source": [
    "country_vs_color = OrderedDict({\n",
    "    'Israel':         '#1A85FF',\n",
    "    'Bahrain':        '#FEFE62',\n",
    "    'United Kingdom': '#40B0A6',\n",
    "    'United States':  '#4B0092',\n",
    "    'Canada':         '#D35FB7',\n",
    "    'China':          '#DC3220',\n",
    "    'Russia':         '#994F00',\n",
    "    'European Union': '#E66100',\n",
    "    'Japan':          '#E1BE6A',\n",
    "    'Australia':      '#000000',\n",
    "    'India':          '#D35FB7'\n",
    "})"
   ]
  },
  {
   "cell_type": "code",
   "execution_count": 5,
   "metadata": {},
   "outputs": [
    {
     "name": "stdout",
     "output_type": "stream",
     "text": [
      "Main countries:      Israel,Bahrain,United Kingdom,United States,Canada,China,Russia\n"
     ]
    },
    {
     "data": {
      "text/html": [
       "\n",
       "<div id=\"altair-viz-be0719fcf0bf47c484d66c3396653487\"></div>\n",
       "<script type=\"text/javascript\">\n",
       "  (function(spec, embedOpt){\n",
       "    let outputDiv = document.currentScript.previousElementSibling;\n",
       "    if (outputDiv.id !== \"altair-viz-be0719fcf0bf47c484d66c3396653487\") {\n",
       "      outputDiv = document.getElementById(\"altair-viz-be0719fcf0bf47c484d66c3396653487\");\n",
       "    }\n",
       "    const paths = {\n",
       "      \"vega\": \"https://cdn.jsdelivr.net/npm//vega@5?noext\",\n",
       "      \"vega-lib\": \"https://cdn.jsdelivr.net/npm//vega-lib?noext\",\n",
       "      \"vega-lite\": \"https://cdn.jsdelivr.net/npm//vega-lite@4.8.1?noext\",\n",
       "      \"vega-embed\": \"https://cdn.jsdelivr.net/npm//vega-embed@6?noext\",\n",
       "    };\n",
       "\n",
       "    function loadScript(lib) {\n",
       "      return new Promise(function(resolve, reject) {\n",
       "        var s = document.createElement('script');\n",
       "        s.src = paths[lib];\n",
       "        s.async = true;\n",
       "        s.onload = () => resolve(paths[lib]);\n",
       "        s.onerror = () => reject(`Error loading script: ${paths[lib]}`);\n",
       "        document.getElementsByTagName(\"head\")[0].appendChild(s);\n",
       "      });\n",
       "    }\n",
       "\n",
       "    function showError(err) {\n",
       "      outputDiv.innerHTML = `<div class=\"error\" style=\"color:red;\">${err}</div>`;\n",
       "      throw err;\n",
       "    }\n",
       "\n",
       "    function displayChart(vegaEmbed) {\n",
       "      vegaEmbed(outputDiv, spec, embedOpt)\n",
       "        .catch(err => showError(`Javascript Error: ${err.message}<br>This usually means there's a typo in your chart specification. See the javascript console for the full traceback.`));\n",
       "    }\n",
       "\n",
       "    if(typeof define === \"function\" && define.amd) {\n",
       "      requirejs.config({paths});\n",
       "      require([\"vega-embed\"], displayChart, err => showError(`Error loading script: ${err.message}`));\n",
       "    } else if (typeof vegaEmbed === \"function\") {\n",
       "      displayChart(vegaEmbed);\n",
       "    } else {\n",
       "      loadScript(\"vega\")\n",
       "        .then(() => loadScript(\"vega-lite\"))\n",
       "        .then(() => loadScript(\"vega-embed\"))\n",
       "        .catch(showError)\n",
       "        .then(() => displayChart(vegaEmbed));\n",
       "    }\n",
       "  })({\"config\": {\"view\": {\"continuousWidth\": 400, \"continuousHeight\": 300}, \"point\": {\"size\": 50}}, \"data\": {\"name\": \"data-03b575ca7bfa82eb145484d8771d20c3\"}, \"mark\": {\"type\": \"line\", \"point\": true, \"strokeWidth\": 2}, \"encoding\": {\"color\": {\"type\": \"nominal\", \"field\": \"location\", \"scale\": {\"domain\": [\"Israel\", \"Bahrain\", \"United Kingdom\", \"United States\", \"Canada\", \"China\", \"Russia\"], \"range\": [\"#1A85FF\", \"#FEFE62\", \"#40B0A6\", \"#4B0092\", \"#D35FB7\", \"#DC3220\", \"#994F00\"]}, \"title\": \"Country\"}, \"tooltip\": [{\"type\": \"nominal\", \"field\": \"location\"}, {\"type\": \"temporal\", \"field\": \"date\"}, {\"type\": \"quantitative\", \"field\": \"total_vaccinations_per_hundred\"}], \"x\": {\"type\": \"temporal\", \"field\": \"date\", \"title\": \"Date\"}, \"y\": {\"type\": \"quantitative\", \"field\": \"total_vaccinations_per_hundred\", \"title\": \"Vaccinated [%]\"}}, \"height\": 300, \"title\": \"Vaccination status 2020-12-31 12:04 (UTC)\", \"width\": 483.00000000000006, \"$schema\": \"https://vega.github.io/schema/vega-lite/v4.8.1.json\", \"datasets\": {\"data-03b575ca7bfa82eb145484d8771d20c3\": [{\"location\": \"Bahrain\", \"date\": \"2020-12-23\", \"total_vaccinations_per_hundred\": 2.29}, {\"location\": \"Bahrain\", \"date\": \"2020-12-24\", \"total_vaccinations_per_hundred\": 2.94}, {\"location\": \"Bahrain\", \"date\": \"2020-12-25\", \"total_vaccinations_per_hundred\": 2.97}, {\"location\": \"Bahrain\", \"date\": \"2020-12-26\", \"total_vaccinations_per_hundred\": 3.03}, {\"location\": \"Bahrain\", \"date\": \"2020-12-27\", \"total_vaccinations_per_hundred\": 3.15}, {\"location\": \"Bahrain\", \"date\": \"2020-12-28\", \"total_vaccinations_per_hundred\": 3.23}, {\"location\": \"Bahrain\", \"date\": \"2020-12-29\", \"total_vaccinations_per_hundred\": 3.29}, {\"location\": \"Bahrain\", \"date\": \"2020-12-30\", \"total_vaccinations_per_hundred\": 3.37}, {\"location\": \"Canada\", \"date\": \"2020-12-14\", \"total_vaccinations_per_hundred\": 0.0}, {\"location\": \"Canada\", \"date\": \"2020-12-15\", \"total_vaccinations_per_hundred\": 0.0}, {\"location\": \"Canada\", \"date\": \"2020-12-16\", \"total_vaccinations_per_hundred\": 0.01}, {\"location\": \"Canada\", \"date\": \"2020-12-17\", \"total_vaccinations_per_hundred\": 0.02}, {\"location\": \"Canada\", \"date\": \"2020-12-18\", \"total_vaccinations_per_hundred\": 0.03}, {\"location\": \"Canada\", \"date\": \"2020-12-19\", \"total_vaccinations_per_hundred\": 0.03}, {\"location\": \"Canada\", \"date\": \"2020-12-20\", \"total_vaccinations_per_hundred\": 0.04}, {\"location\": \"Canada\", \"date\": \"2020-12-21\", \"total_vaccinations_per_hundred\": 0.06}, {\"location\": \"Canada\", \"date\": \"2020-12-22\", \"total_vaccinations_per_hundred\": 0.07}, {\"location\": \"Canada\", \"date\": \"2020-12-23\", \"total_vaccinations_per_hundred\": 0.09}, {\"location\": \"Canada\", \"date\": \"2020-12-24\", \"total_vaccinations_per_hundred\": 0.12}, {\"location\": \"Canada\", \"date\": \"2020-12-25\", \"total_vaccinations_per_hundred\": 0.12}, {\"location\": \"Canada\", \"date\": \"2020-12-26\", \"total_vaccinations_per_hundred\": 0.13}, {\"location\": \"Canada\", \"date\": \"2020-12-27\", \"total_vaccinations_per_hundred\": 0.14}, {\"location\": \"Canada\", \"date\": \"2020-12-28\", \"total_vaccinations_per_hundred\": 0.16}, {\"location\": \"Canada\", \"date\": \"2020-12-29\", \"total_vaccinations_per_hundred\": 0.19}, {\"location\": \"Canada\", \"date\": \"2020-12-30\", \"total_vaccinations_per_hundred\": 0.23}, {\"location\": \"China\", \"date\": \"2020-12-19\", \"total_vaccinations_per_hundred\": 0.07}, {\"location\": \"Israel\", \"date\": \"2020-12-20\", \"total_vaccinations_per_hundred\": 0.09}, {\"location\": \"Israel\", \"date\": \"2020-12-21\", \"total_vaccinations_per_hundred\": 0.36}, {\"location\": \"Israel\", \"date\": \"2020-12-22\", \"total_vaccinations_per_hundred\": 0.85}, {\"location\": \"Israel\", \"date\": \"2020-12-23\", \"total_vaccinations_per_hundred\": 1.55}, {\"location\": \"Israel\", \"date\": \"2020-12-24\", \"total_vaccinations_per_hundred\": 2.41}, {\"location\": \"Israel\", \"date\": \"2020-12-25\", \"total_vaccinations_per_hundred\": 2.86}, {\"location\": \"Israel\", \"date\": \"2020-12-26\", \"total_vaccinations_per_hundred\": 3.23}, {\"location\": \"Israel\", \"date\": \"2020-12-27\", \"total_vaccinations_per_hundred\": 4.35}, {\"location\": \"Israel\", \"date\": \"2020-12-28\", \"total_vaccinations_per_hundred\": 5.68}, {\"location\": \"Israel\", \"date\": \"2020-12-29\", \"total_vaccinations_per_hundred\": 7.44}, {\"location\": \"Israel\", \"date\": \"2020-12-30\", \"total_vaccinations_per_hundred\": 9.18}, {\"location\": \"Russia\", \"date\": \"2020-12-15\", \"total_vaccinations_per_hundred\": 0.02}, {\"location\": \"Russia\", \"date\": \"2020-12-22\", \"total_vaccinations_per_hundred\": 0.04}, {\"location\": \"United Kingdom\", \"date\": \"2020-12-20\", \"total_vaccinations_per_hundred\": 0.91}, {\"location\": \"United Kingdom\", \"date\": \"2020-12-24\", \"total_vaccinations_per_hundred\": 1.18}, {\"location\": \"United States\", \"date\": \"2020-12-19\", \"total_vaccinations_per_hundred\": 0.08}, {\"location\": \"United States\", \"date\": \"2020-12-20\", \"total_vaccinations_per_hundred\": 0.17}, {\"location\": \"United States\", \"date\": \"2020-12-21\", \"total_vaccinations_per_hundred\": 0.19}, {\"location\": \"United States\", \"date\": \"2020-12-23\", \"total_vaccinations_per_hundred\": 0.3}, {\"location\": \"United States\", \"date\": \"2020-12-26\", \"total_vaccinations_per_hundred\": 0.59}, {\"location\": \"United States\", \"date\": \"2020-12-28\", \"total_vaccinations_per_hundred\": 0.64}, {\"location\": \"United States\", \"date\": \"2020-12-30\", \"total_vaccinations_per_hundred\": 0.84}]}}, {\"mode\": \"vega-lite\"});\n",
       "</script>"
      ],
      "text/plain": [
       "alt.Chart(...)"
      ]
     },
     "metadata": {},
     "output_type": "display_data"
    }
   ],
   "source": [
    "cmap = OrderedDict({k:country_vs_color[k] for k in [x for x in max_values.location if x in country_vs_color.keys()]})\n",
    "print('Main countries:     ', \",\".join(list(cmap.keys())))\n",
    "chart = plot_chart(df, cmap)\n",
    "display(chart)\n",
    "#chart.save('out/main-countries.png')"
   ]
  },
  {
   "cell_type": "markdown",
   "metadata": {},
   "source": [
    "### European countries"
   ]
  },
  {
   "cell_type": "code",
   "execution_count": 6,
   "metadata": {},
   "outputs": [],
   "source": [
    "country_vs_color = OrderedDict({\n",
    "    'Austria':    '#000000',\n",
    "    'Bulgaria':   '#004949',\n",
    "    'Croatia':    '#009292',\n",
    "    'Denmark':    '#ff6db6',\n",
    "    'Estonia':    '#ffb6db',\n",
    "    'France':     '#490092',\n",
    "    'Germany':    '#006ddb',\n",
    "    'Greece':     '#b66dff',\n",
    "    'Hungary':    '#6db6ff',\n",
    "    'Italy':      '#b6dbff',\n",
    "    'Latvia':     '#920000',\n",
    "    'Lithuania':  '#924900',\n",
    "    'Luxembourg': '#db6d00',\n",
    "    'Poland':     '#24ff24',\n",
    "    'Portugal':   '#ffff6d',\n",
    "    'Romania':    '#000000'\n",
    "})"
   ]
  },
  {
   "cell_type": "code",
   "execution_count": 7,
   "metadata": {},
   "outputs": [
    {
     "name": "stdout",
     "output_type": "stream",
     "text": [
      "European countries:  Denmark,Luxembourg,Croatia,Portugal,Germany,Lithuania,Austria,Bulgaria,Estonia,Poland,Hungary,Latvia,Italy,Greece,Romania,France\n"
     ]
    },
    {
     "data": {
      "text/html": [
       "\n",
       "<div id=\"altair-viz-f1267ebbf43a4cbcac87808d95c95413\"></div>\n",
       "<script type=\"text/javascript\">\n",
       "  (function(spec, embedOpt){\n",
       "    let outputDiv = document.currentScript.previousElementSibling;\n",
       "    if (outputDiv.id !== \"altair-viz-f1267ebbf43a4cbcac87808d95c95413\") {\n",
       "      outputDiv = document.getElementById(\"altair-viz-f1267ebbf43a4cbcac87808d95c95413\");\n",
       "    }\n",
       "    const paths = {\n",
       "      \"vega\": \"https://cdn.jsdelivr.net/npm//vega@5?noext\",\n",
       "      \"vega-lib\": \"https://cdn.jsdelivr.net/npm//vega-lib?noext\",\n",
       "      \"vega-lite\": \"https://cdn.jsdelivr.net/npm//vega-lite@4.8.1?noext\",\n",
       "      \"vega-embed\": \"https://cdn.jsdelivr.net/npm//vega-embed@6?noext\",\n",
       "    };\n",
       "\n",
       "    function loadScript(lib) {\n",
       "      return new Promise(function(resolve, reject) {\n",
       "        var s = document.createElement('script');\n",
       "        s.src = paths[lib];\n",
       "        s.async = true;\n",
       "        s.onload = () => resolve(paths[lib]);\n",
       "        s.onerror = () => reject(`Error loading script: ${paths[lib]}`);\n",
       "        document.getElementsByTagName(\"head\")[0].appendChild(s);\n",
       "      });\n",
       "    }\n",
       "\n",
       "    function showError(err) {\n",
       "      outputDiv.innerHTML = `<div class=\"error\" style=\"color:red;\">${err}</div>`;\n",
       "      throw err;\n",
       "    }\n",
       "\n",
       "    function displayChart(vegaEmbed) {\n",
       "      vegaEmbed(outputDiv, spec, embedOpt)\n",
       "        .catch(err => showError(`Javascript Error: ${err.message}<br>This usually means there's a typo in your chart specification. See the javascript console for the full traceback.`));\n",
       "    }\n",
       "\n",
       "    if(typeof define === \"function\" && define.amd) {\n",
       "      requirejs.config({paths});\n",
       "      require([\"vega-embed\"], displayChart, err => showError(`Error loading script: ${err.message}`));\n",
       "    } else if (typeof vegaEmbed === \"function\") {\n",
       "      displayChart(vegaEmbed);\n",
       "    } else {\n",
       "      loadScript(\"vega\")\n",
       "        .then(() => loadScript(\"vega-lite\"))\n",
       "        .then(() => loadScript(\"vega-embed\"))\n",
       "        .catch(showError)\n",
       "        .then(() => displayChart(vegaEmbed));\n",
       "    }\n",
       "  })({\"config\": {\"view\": {\"continuousWidth\": 400, \"continuousHeight\": 300}, \"point\": {\"size\": 50}}, \"data\": {\"name\": \"data-4a2c4de52859ecdc4c94a077cb75faaa\"}, \"mark\": {\"type\": \"line\", \"point\": true, \"strokeWidth\": 2}, \"encoding\": {\"color\": {\"type\": \"nominal\", \"field\": \"location\", \"scale\": {\"domain\": [\"Denmark\", \"Luxembourg\", \"Croatia\", \"Portugal\", \"Germany\", \"Lithuania\", \"Austria\", \"Bulgaria\", \"Estonia\", \"Poland\", \"Hungary\", \"Latvia\", \"Italy\", \"Greece\", \"Romania\", \"France\"], \"range\": [\"#ff6db6\", \"#db6d00\", \"#009292\", \"#ffff6d\", \"#006ddb\", \"#924900\", \"#000000\", \"#004949\", \"#ffb6db\", \"#24ff24\", \"#6db6ff\", \"#920000\", \"#b6dbff\", \"#b66dff\", \"#000000\", \"#490092\"]}, \"title\": \"Country\"}, \"tooltip\": [{\"type\": \"nominal\", \"field\": \"location\"}, {\"type\": \"temporal\", \"field\": \"date\"}, {\"type\": \"quantitative\", \"field\": \"total_vaccinations_per_hundred\"}], \"x\": {\"type\": \"temporal\", \"field\": \"date\", \"title\": \"Date\"}, \"y\": {\"type\": \"quantitative\", \"field\": \"total_vaccinations_per_hundred\", \"title\": \"Vaccinated [%]\"}}, \"height\": 300, \"title\": \"Vaccination status 2020-12-31 12:04 (UTC)\", \"width\": 483.00000000000006, \"$schema\": \"https://vega.github.io/schema/vega-lite/v4.8.1.json\", \"datasets\": {\"data-4a2c4de52859ecdc4c94a077cb75faaa\": [{\"location\": \"Austria\", \"date\": \"2020-12-30\", \"total_vaccinations_per_hundred\": 0.07}, {\"location\": \"Bulgaria\", \"date\": \"2020-12-29\", \"total_vaccinations_per_hundred\": 0.02}, {\"location\": \"Bulgaria\", \"date\": \"2020-12-30\", \"total_vaccinations_per_hundred\": 0.07}, {\"location\": \"Croatia\", \"date\": \"2020-12-30\", \"total_vaccinations_per_hundred\": 0.19}, {\"location\": \"Denmark\", \"date\": \"2020-12-27\", \"total_vaccinations_per_hundred\": 0.1}, {\"location\": \"Denmark\", \"date\": \"2020-12-28\", \"total_vaccinations_per_hundred\": 0.13}, {\"location\": \"Denmark\", \"date\": \"2020-12-29\", \"total_vaccinations_per_hundred\": 0.23}, {\"location\": \"Denmark\", \"date\": \"2020-12-30\", \"total_vaccinations_per_hundred\": 0.23}, {\"location\": \"Estonia\", \"date\": \"2020-12-28\", \"total_vaccinations_per_hundred\": 0.02}, {\"location\": \"Estonia\", \"date\": \"2020-12-29\", \"total_vaccinations_per_hundred\": 0.04}, {\"location\": \"Estonia\", \"date\": \"2020-12-30\", \"total_vaccinations_per_hundred\": 0.07}, {\"location\": \"France\", \"date\": \"2020-12-30\", \"total_vaccinations_per_hundred\": 0.0}, {\"location\": \"Germany\", \"date\": \"2020-12-27\", \"total_vaccinations_per_hundred\": 0.03}, {\"location\": \"Germany\", \"date\": \"2020-12-28\", \"total_vaccinations_per_hundred\": 0.05}, {\"location\": \"Germany\", \"date\": \"2020-12-29\", \"total_vaccinations_per_hundred\": 0.09}, {\"location\": \"Greece\", \"date\": \"2020-12-30\", \"total_vaccinations_per_hundred\": 0.02}, {\"location\": \"Hungary\", \"date\": \"2020-12-28\", \"total_vaccinations_per_hundred\": 0.01}, {\"location\": \"Hungary\", \"date\": \"2020-12-29\", \"total_vaccinations_per_hundred\": 0.03}, {\"location\": \"Hungary\", \"date\": \"2020-12-30\", \"total_vaccinations_per_hundred\": 0.04}, {\"location\": \"Italy\", \"date\": \"2020-12-29\", \"total_vaccinations_per_hundred\": 0.01}, {\"location\": \"Italy\", \"date\": \"2020-12-30\", \"total_vaccinations_per_hundred\": 0.02}, {\"location\": \"Latvia\", \"date\": \"2020-12-29\", \"total_vaccinations_per_hundred\": 0.03}, {\"location\": \"Lithuania\", \"date\": \"2020-12-28\", \"total_vaccinations_per_hundred\": 0.08}, {\"location\": \"Luxembourg\", \"date\": \"2020-12-30\", \"total_vaccinations_per_hundred\": 0.19}, {\"location\": \"Poland\", \"date\": \"2020-12-28\", \"total_vaccinations_per_hundred\": 0.01}, {\"location\": \"Poland\", \"date\": \"2020-12-29\", \"total_vaccinations_per_hundred\": 0.02}, {\"location\": \"Poland\", \"date\": \"2020-12-30\", \"total_vaccinations_per_hundred\": 0.04}, {\"location\": \"Portugal\", \"date\": \"2020-12-28\", \"total_vaccinations_per_hundred\": 0.05}, {\"location\": \"Portugal\", \"date\": \"2020-12-29\", \"total_vaccinations_per_hundred\": 0.16}, {\"location\": \"Romania\", \"date\": \"2020-12-28\", \"total_vaccinations_per_hundred\": 0.01}, {\"location\": \"Romania\", \"date\": \"2020-12-29\", \"total_vaccinations_per_hundred\": 0.01}]}}, {\"mode\": \"vega-lite\"});\n",
       "</script>"
      ],
      "text/plain": [
       "alt.Chart(...)"
      ]
     },
     "metadata": {},
     "output_type": "display_data"
    }
   ],
   "source": [
    "cmap = OrderedDict({k:country_vs_color[k] for k in [x for x in max_values.location if x in country_vs_color.keys()]})\n",
    "print('European countries: ', \",\".join(list(cmap.keys())))\n",
    "chart = plot_chart(df, cmap)\n",
    "display(chart)\n",
    "#chart.save('out/european-countries.png')"
   ]
  },
  {
   "cell_type": "code",
   "execution_count": null,
   "metadata": {},
   "outputs": [],
   "source": []
  }
 ],
 "metadata": {
  "kernelspec": {
   "display_name": "Python 3",
   "language": "python",
   "name": "python3"
  },
  "language_info": {
   "codemirror_mode": {
    "name": "ipython",
    "version": 3
   },
   "file_extension": ".py",
   "mimetype": "text/x-python",
   "name": "python",
   "nbconvert_exporter": "python",
   "pygments_lexer": "ipython3",
   "version": "3.8.5"
  }
 },
 "nbformat": 4,
 "nbformat_minor": 4
}
