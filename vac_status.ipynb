{
 "cells": [
  {
   "cell_type": "code",
   "execution_count": 1,
   "metadata": {},
   "outputs": [
    {
     "name": "stdout",
     "output_type": "stream",
     "text": [
      "Python implementation: CPython\n",
      "Python version       : 3.8.5\n",
      "IPython version      : 7.19.0\n",
      "\n",
      "requests: 2.25.1\n",
      "pandas  : 1.1.5\n",
      "altair  : 4.1.0\n",
      "numpy   : 1.19.2\n",
      "sys     : 3.8.5 (default, Sep  4 2020, 07:30:14) \n",
      "[GCC 7.3.0]\n",
      "\n"
     ]
    }
   ],
   "source": [
    "import requests\n",
    "import altair as alt\n",
    "import numpy as np\n",
    "import pandas as pd\n",
    "import sys\n",
    "import warnings\n",
    "\n",
    "from collections import OrderedDict \n",
    "from datetime import datetime, timezone\n",
    "from io import StringIO\n",
    "\n",
    "%load_ext watermark\n",
    "%watermark -iv -v"
   ]
  },
  {
   "cell_type": "markdown",
   "metadata": {},
   "source": [
    "### Load latest data"
   ]
  },
  {
   "cell_type": "code",
   "execution_count": 2,
   "metadata": {},
   "outputs": [
    {
     "data": {
      "text/html": [
       "<div>\n",
       "<style scoped>\n",
       "    .dataframe tbody tr th:only-of-type {\n",
       "        vertical-align: middle;\n",
       "    }\n",
       "\n",
       "    .dataframe tbody tr th {\n",
       "        vertical-align: top;\n",
       "    }\n",
       "\n",
       "    .dataframe thead th {\n",
       "        text-align: right;\n",
       "    }\n",
       "</style>\n",
       "<table border=\"1\" class=\"dataframe\">\n",
       "  <thead>\n",
       "    <tr style=\"text-align: right;\">\n",
       "      <th></th>\n",
       "      <th>location</th>\n",
       "      <th>date</th>\n",
       "      <th>total_vaccinations_per_hundred</th>\n",
       "    </tr>\n",
       "  </thead>\n",
       "  <tbody>\n",
       "    <tr>\n",
       "      <th>97</th>\n",
       "      <td>World</td>\n",
       "      <td>2020-12-30</td>\n",
       "      <td>0.06</td>\n",
       "    </tr>\n",
       "    <tr>\n",
       "      <th>30</th>\n",
       "      <td>Denmark</td>\n",
       "      <td>2020-12-27</td>\n",
       "      <td>0.09</td>\n",
       "    </tr>\n",
       "    <tr>\n",
       "      <th>29</th>\n",
       "      <td>Costa Rica</td>\n",
       "      <td>2020-12-24</td>\n",
       "      <td>0.00</td>\n",
       "    </tr>\n",
       "    <tr>\n",
       "      <th>13</th>\n",
       "      <td>Canada</td>\n",
       "      <td>2020-12-18</td>\n",
       "      <td>0.03</td>\n",
       "    </tr>\n",
       "    <tr>\n",
       "      <th>6</th>\n",
       "      <td>Bahrain</td>\n",
       "      <td>2020-12-28</td>\n",
       "      <td>3.23</td>\n",
       "    </tr>\n",
       "  </tbody>\n",
       "</table>\n",
       "</div>"
      ],
      "text/plain": [
       "      location        date  total_vaccinations_per_hundred\n",
       "97       World  2020-12-30                            0.06\n",
       "30     Denmark  2020-12-27                            0.09\n",
       "29  Costa Rica  2020-12-24                            0.00\n",
       "13      Canada  2020-12-18                            0.03\n",
       "6      Bahrain  2020-12-28                            3.23"
      ]
     },
     "metadata": {},
     "output_type": "display_data"
    }
   ],
   "source": [
    "try:\n",
    "    url = 'https://raw.githubusercontent.com/owid/covid-19-data/master/public/data/vaccinations/vaccinations.csv'\n",
    "    r = requests.get(url, allow_redirects=True)\n",
    "    df = pd.read_csv(StringIO(r.content.decode(\"utf-8\")))[['location', 'date', 'total_vaccinations_per_hundred']]\n",
    "    max_values = df.groupby('location').max('total_vaccinations_per_hundred').sort_values('total_vaccinations_per_hundred', ascending=False).reset_index(drop=False)\n",
    "    display(df.sample(5))\n",
    "except:\n",
    "    warnings.warn('Cannot read vaccination data to pandas dataframe!')"
   ]
  },
  {
   "cell_type": "markdown",
   "metadata": {},
   "source": [
    "### Plot routine"
   ]
  },
  {
   "cell_type": "code",
   "execution_count": 3,
   "metadata": {},
   "outputs": [],
   "source": [
    "def plot_chart(df, cmap):\n",
    "    return alt.Chart(df[df.location.isin(cmap.keys())]).mark_line(point=True, strokeWidth=2).encode(\n",
    "        x       = alt.X('date:T', title='Date'),\n",
    "        y       = alt.Y('total_vaccinations_per_hundred:Q', title='Vaccinated [%]'),\n",
    "        color   = alt.Color('location:N', title='Country', scale=alt.Scale(\n",
    "                domain = list(cmap.keys()),\n",
    "                range  = list(cmap.values())\n",
    "        )),    tooltip = ['location', 'date:T', 'total_vaccinations_per_hundred']\n",
    "    ).configure_point(\n",
    "        size=50\n",
    "    ).properties(width=200*1.61, height=200, title=f'Vaccination status {datetime.now().astimezone(timezone.utc).strftime(\"%Y-%m-%d %H:%M\")} (UTC)')"
   ]
  },
  {
   "cell_type": "markdown",
   "metadata": {},
   "source": [
    "### Main countries"
   ]
  },
  {
   "cell_type": "code",
   "execution_count": 4,
   "metadata": {},
   "outputs": [],
   "source": [
    "country_vs_color = OrderedDict({\n",
    "    'Israel':         'lightblue',\n",
    "    'Bahrain':        'yellow',\n",
    "    'United Kingdom': 'purple',\n",
    "    'United States':  'blue',\n",
    "    'Canada':         'lightgray',\n",
    "    'China':          'red',\n",
    "    'Russia':         'brown',\n",
    "    'European Union': 'orange',\n",
    "    'Japan':          'gray'\n",
    "})"
   ]
  },
  {
   "cell_type": "code",
   "execution_count": 5,
   "metadata": {},
   "outputs": [
    {
     "name": "stdout",
     "output_type": "stream",
     "text": [
      "Main countries:      Israel,Bahrain,United Kingdom,United States,Canada,China,Russia\n"
     ]
    }
   ],
   "source": [
    "cmap = OrderedDict({k:country_vs_color[k] for k in [x for x in max_values.location if x in country_vs_color.keys()]})\n",
    "print('Main countries:     ', \",\".join(list(cmap.keys())))\n",
    "chart = plot_chart(df, cmap)\n",
    "#chart.save('out/main-countries.png')"
   ]
  },
  {
   "cell_type": "markdown",
   "metadata": {},
   "source": [
    "### European countries"
   ]
  },
  {
   "cell_type": "code",
   "execution_count": 6,
   "metadata": {},
   "outputs": [],
   "source": [
    "country_vs_color = OrderedDict({'Portugal': 'green',\n",
    " 'Denmark': 'red',\n",
    " 'Lithuania': 'orange',\n",
    " 'Germany': 'brown',\n",
    " 'Estonia': 'lightblue',\n",
    " 'Latvia': 'pink',\n",
    " 'Italy': 'lightgreen',\n",
    " 'Poland': 'lightgray',\n",
    " 'Romania': 'yellow'})"
   ]
  },
  {
   "cell_type": "code",
   "execution_count": 7,
   "metadata": {},
   "outputs": [
    {
     "name": "stdout",
     "output_type": "stream",
     "text": [
      "European countries:  Portugal,Denmark,Germany,Lithuania,Estonia,Latvia,Poland,Italy,Romania\n"
     ]
    }
   ],
   "source": [
    "cmap = OrderedDict({k:country_vs_color[k] for k in [x for x in max_values.location if x in country_vs_color.keys()]})\n",
    "print('European countries: ', \",\".join(list(cmap.keys())))\n",
    "chart = plot_chart(df, cmap)\n",
    "#chart.save('out/european-countries.png')"
   ]
  },
  {
   "cell_type": "code",
   "execution_count": null,
   "metadata": {},
   "outputs": [],
   "source": []
  }
 ],
 "metadata": {
  "kernelspec": {
   "display_name": "Python 3",
   "language": "python",
   "name": "python3"
  },
  "language_info": {
   "codemirror_mode": {
    "name": "ipython",
    "version": 3
   },
   "file_extension": ".py",
   "mimetype": "text/x-python",
   "name": "python",
   "nbconvert_exporter": "python",
   "pygments_lexer": "ipython3",
   "version": "3.8.5"
  }
 },
 "nbformat": 4,
 "nbformat_minor": 4
}
